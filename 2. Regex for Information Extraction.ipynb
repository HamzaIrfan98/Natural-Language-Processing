{
 "cells": [
  {
   "cell_type": "code",
   "execution_count": 1,
   "metadata": {},
   "outputs": [],
   "source": [
    "import re"
   ]
  },
  {
   "cell_type": "code",
   "execution_count": 5,
   "metadata": {},
   "outputs": [],
   "source": [
    "def check_pattern_match (pattern, text):\n",
    "    matches = re.findall(pattern, text)\n",
    "    if matches:\n",
    "        return matches[0]"
   ]
  },
  {
   "cell_type": "code",
   "execution_count": 6,
   "metadata": {},
   "outputs": [],
   "source": [
    "def extract_personal_info (text):\n",
    "    age = check_pattern_match('age (\\d+)', text)\n",
    "    full_name = check_pattern_match('Born(.*)\\n', text)\n",
    "    birth_date = check_pattern_match('Born.*\\n(.*)\\(age', text)\n",
    "    birth_place = check_pattern_match('\\(age.*\\n(.*)', text)\n",
    "    return {\n",
    "        'age': int(age),\n",
    "        'name': full_name.strip(),\n",
    "        'birth_date': birth_date.strip(),\n",
    "        'birth_place': birth_place.strip()\n",
    "    }"
   ]
  },
  {
   "cell_type": "code",
   "execution_count": 7,
   "metadata": {},
   "outputs": [],
   "source": [
    "text = '''\n",
    "Born\tImran Ahmed Khan Niazi\n",
    "5 October 1952 (age 70)\n",
    "Lahore, Punjab, Pakistan\n",
    "Political party\tPakistan Tehreek-e-Insaf (1996-present)\n",
    "Spouses\t\n",
    "Jemima Goldsmith\n",
    "​\n",
    "​(m. 1995; div. 2004)​\n",
    "Reham Khan\n",
    "​\n",
    "​(m. 2015; div. 2015)​\n",
    "Bushra Bibi ​(m. 2018)​\n",
    "Children\tSulaiman Isa Khan\n",
    "Kasim Khan\n",
    "Parents\t\n",
    "Ikramullah Khan Niazi (father)\n",
    "Shaukat Khanum (mother)\n",
    "Relatives\tFamily of Imran Khan\n",
    "Residence\tBani Gala Mansion[1]\n",
    "Education\tKeble College, Oxford (BA)\n",
    "Awards\tSee list\n",
    "Signature\t\n",
    "Website\twww.insaf.pk\n",
    "Nickname\tKaptaan[2][3]\n",
    "'''"
   ]
  },
  {
   "cell_type": "code",
   "execution_count": 8,
   "metadata": {},
   "outputs": [
    {
     "data": {
      "text/plain": [
       "{'age': 70,\n",
       " 'name': 'Imran Ahmed Khan Niazi',\n",
       " 'birth_date': '5 October 1952',\n",
       " 'birth_place': 'Lahore, Punjab, Pakistan'}"
      ]
     },
     "execution_count": 8,
     "metadata": {},
     "output_type": "execute_result"
    }
   ],
   "source": [
    "extract_personal_info (text)"
   ]
  },
  {
   "cell_type": "code",
   "execution_count": 9,
   "metadata": {},
   "outputs": [],
   "source": [
    "text2 = '''\n",
    "Born\tJohn Forbes Kerry\n",
    "December 11, 1943 (age 78)\n",
    "Aurora, Colorado, U.S.\n",
    "Political party\tDemocratic\n",
    "Spouses\t\n",
    "Julia Thorne\n",
    "​\n",
    "​(m. 1970; div. 1988)​\n",
    "Teresa Heinz ​(m. 1995)​\n",
    "Children\t\n",
    "AlexandraVanessa\n",
    "Parent(s)\tRichard Kerry\n",
    "Rosemary Forbes\n",
    "Relatives\tForbes family\n",
    "Alma mater\t\n",
    "Yale University (BA)\n",
    "Boston College (JD)\n",
    "Occupation\t\n",
    "Politiciandiplomatbusinessmanactivist\n",
    "Signature\t\n",
    "'''"
   ]
  },
  {
   "cell_type": "code",
   "execution_count": 10,
   "metadata": {},
   "outputs": [
    {
     "data": {
      "text/plain": [
       "{'age': 78,\n",
       " 'name': 'John Forbes Kerry',\n",
       " 'birth_date': 'December 11, 1943',\n",
       " 'birth_place': 'Aurora, Colorado, U.S.'}"
      ]
     },
     "execution_count": 10,
     "metadata": {},
     "output_type": "execute_result"
    }
   ],
   "source": [
    "extract_personal_info (text2)"
   ]
  }
 ],
 "metadata": {
  "kernelspec": {
   "display_name": "Python 3",
   "language": "python",
   "name": "python3"
  },
  "language_info": {
   "codemirror_mode": {
    "name": "ipython",
    "version": 3
   },
   "file_extension": ".py",
   "mimetype": "text/x-python",
   "name": "python",
   "nbconvert_exporter": "python",
   "pygments_lexer": "ipython3",
   "version": "3.8.5"
  }
 },
 "nbformat": 4,
 "nbformat_minor": 4
}
